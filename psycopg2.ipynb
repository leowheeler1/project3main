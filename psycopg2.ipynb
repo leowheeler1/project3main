{
 "cells": [
  {
   "cell_type": "code",
   "execution_count": null,
   "id": "af97078e",
   "metadata": {},
   "outputs": [],
   "source": [
    "import psycopg2\n",
    "from flask import Flask, jsonify, request\n",
    "from passwords import user, passw # include a file to configure these for your own use\n",
    "from datetime import date, datetime\n",
    "import json"
   ]
  },
  {
   "cell_type": "code",
   "execution_count": 49,
   "id": "563079ed",
   "metadata": {},
   "outputs": [],
   "source": [
    "def makeJSON(records): # Custom 'jsonify' function, takes list of lists, makes list of dictionaries\n",
    "    output = []\n",
    "    for i in range(len(records)):\n",
    "        temp_out = {\n",
    "            'week' : records[i][0],\n",
    "            'state' : records[i][1],\n",
    "            'week_start' : records[i][2],\n",
    "            'covid_d' : records[i][3],\n",
    "            'pneum_d' : records[i][4],\n",
    "            'flu_d' : records[i][5],\n",
    "            'anyof3_d' : records[i][6],\n",
    "            'total_d' : records[i][7],\n",
    "            'poe_d' : records[i][8],\n",
    "            'year': records[i][9]}\n",
    "        output.append(temp_out)\n",
    "    return output"
   ]
  },
  {
   "cell_type": "code",
   "execution_count": 50,
   "id": "2f6e322a",
   "metadata": {},
   "outputs": [],
   "source": [
    "def pickState(state): # Picks all data for chosen state\n",
    "    sql = \"select * from covid where state like (%s)\"\n",
    "    data = (state,)\n",
    "    cur.execute(sql, data)\n",
    "    records = cur.fetchall()\n",
    "    output = makeJSON(records)\n",
    "    return output\n"
   ]
  },
  {
   "cell_type": "code",
   "execution_count": 51,
   "id": "15c37b71",
   "metadata": {},
   "outputs": [],
   "source": [
    "def pickYear(year): # Picks all data for chosen year\n",
    "    sql = \"select * from covid where year = (%s)\"\n",
    "    data = (year,)\n",
    "    cur.execute(sql, data)\n",
    "    records = cur.fetchall()\n",
    "    output = makeJSON(records)\n",
    "    return output"
   ]
  },
  {
   "cell_type": "code",
   "execution_count": 52,
   "id": "ed2ca919",
   "metadata": {},
   "outputs": [],
   "source": [
    "def makeJSON2(records): # Same thing as the first but for the other DB\n",
    "    output = []\n",
    "    for i in range(len(records)):\n",
    "        temp_out = {\n",
    "            'indicator':records[i][0],\n",
    "            'group':records[i][1],\n",
    "            'state':records[i][2],\n",
    "            'subgroup':records[i][3],\n",
    "            'time_start':records[i][4],\n",
    "            'time_end':records[i][5],\n",
    "            'value':records[i][6],\n",
    "            'low':records[i][7],\n",
    "            'high':records[i][8]\n",
    "        }\n",
    "        output.append(temp_out)\n",
    "    return output"
   ]
  },
  {
   "cell_type": "code",
   "execution_count": 53,
   "id": "0ce256c0",
   "metadata": {},
   "outputs": [],
   "source": [
    "def getYearM(year): # Same again for other DB\n",
    "    sql = \"select * from mental where time_start between (%s) and (%s)\"\n",
    "    data = (f\"{year-1}-01-01\",f\"{year+1}-01-01\",)\n",
    "    cursor2.execute(sql, data)\n",
    "    records = cursor2.fetchall()\n",
    "    output = makeJSON2(records)\n",
    "    return output\n"
   ]
  },
  {
   "cell_type": "code",
   "execution_count": 54,
   "id": "2e767997",
   "metadata": {},
   "outputs": [],
   "source": [
    "def getYearM(group): # Grab data for a specific group in the 'divisor' column\n",
    "    sql = \"select * from mental where divisor like (%s)\"\n",
    "    data = (group.title(),)\n",
    "    cursor2.execute(sql, data)\n",
    "    records = cursor2.fetchall()\n",
    "    print(records)\n",
    "    output = makeJSON2(records)\n",
    "    return output"
   ]
  },
  {
   "cell_type": "code",
   "execution_count": null,
   "id": "fdcde88a",
   "metadata": {},
   "outputs": [],
   "source": [
    "# Psycopg2 Setup\n",
    "conn = psycopg2.connect(f\"dbname=covid user={user} password={passw}\")\n",
    "cur = conn.cursor() # Create connection, and point at it\n",
    "cur.execute('select * from covid') # Execute our sql code\n",
    "records = cur.fetchall() # grab all of it, this returns a list of lists\n",
    "record = makeJSON(records) # jsonify\n",
    "for i in range(len(record)): # make the week var a string so we can json output\n",
    "    strobj = str(record[i]['week_start'])\n",
    "    record[i]['week_start'] = strobj\n",
    "\n",
    "with open(\"data/json/covid_data.json\", \"w\") as file: \n",
    "    json.dump(record, file, indent=4) # json dump\n",
    "\n",
    "conn2 = psycopg2.connect(f\"dbname=mental_health user={user} password={passw}\")\n",
    "cursor2 = conn2.cursor() # same stuff for other database\n",
    "cursor2.execute(\"select * from mental\")\n",
    "reco = cursor2.fetchall()\n",
    "jsonrec = makeJSON2(reco)\n",
    "for i in range(len(jsonrec)):\n",
    "    strobj = str(jsonrec[i]['time_start']) # Two date vars this time\n",
    "    jsonrec[i]['time_start'] = strobj\n",
    "    strobj2 = str(jsonrec[i]['time_end'])\n",
    "    jsonrec[i]['time_end'] = strobj2\n",
    "\n",
    "with open(\"data/json/mental_data.json\", \"w\") as file:\n",
    "    json.dump(jsonrec, file, indent=4)\n"
   ]
  }
 ],
 "metadata": {
  "kernelspec": {
   "display_name": "dev",
   "language": "python",
   "name": "python3"
  },
  "language_info": {
   "codemirror_mode": {
    "name": "ipython",
    "version": 3
   },
   "file_extension": ".py",
   "mimetype": "text/x-python",
   "name": "python",
   "nbconvert_exporter": "python",
   "pygments_lexer": "ipython3",
   "version": "3.10.16"
  }
 },
 "nbformat": 4,
 "nbformat_minor": 5
}
