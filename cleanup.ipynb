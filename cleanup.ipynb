{
 "cells": [
  {
   "cell_type": "code",
   "execution_count": 1,
   "id": "3fc8fd63",
   "metadata": {},
   "outputs": [],
   "source": [
    "# brief data cleanup\n",
    "import requests\n",
    "import pandas as pd"
   ]
  },
  {
   "cell_type": "code",
   "execution_count": 2,
   "id": "b0b52d35",
   "metadata": {},
   "outputs": [
    {
     "name": "stdout",
     "output_type": "stream",
     "text": [
      "200\n",
      "200\n",
      "200\n",
      "200\n",
      "200\n",
      "200\n",
      "200\n",
      "200\n",
      "200\n",
      "200\n",
      "200\n",
      "200\n",
      "200\n",
      "200\n",
      "200\n",
      "200\n",
      "200\n",
      "200\n",
      "200\n"
     ]
    }
   ],
   "source": [
    "output = []\n",
    "\n",
    "for i in range(19):\n",
    "\toffset = f'&$offset={0 + (i*1000)}'\n",
    "\turl = f'https://data.cdc.gov/resource/r8kw-7aab.json?$limit=1000'\n",
    "\tif i == 0:\n",
    "\t\tresponse = requests.get(url)\n",
    "\telse:\n",
    "\t\tresponse = requests.get(url + offset)\n",
    "\tfor item in response.json():\n",
    "\t\toutput.append(item)\n",
    "\tprint(response.status_code)"
   ]
  },
  {
   "cell_type": "code",
   "execution_count": 3,
   "id": "cb5851e0",
   "metadata": {},
   "outputs": [
    {
     "data": {
      "application/vnd.microsoft.datawrangler.viewer.v0+json": {
       "columns": [
        {
         "name": "index",
         "rawType": "int64",
         "type": "integer"
        },
        {
         "name": "week",
         "rawType": "object",
         "type": "string"
        },
        {
         "name": "state",
         "rawType": "object",
         "type": "string"
        },
        {
         "name": "week_start",
         "rawType": "object",
         "type": "string"
        },
        {
         "name": "covid_d",
         "rawType": "object",
         "type": "string"
        },
        {
         "name": "pneum_d",
         "rawType": "object",
         "type": "string"
        },
        {
         "name": "flu_d",
         "rawType": "object",
         "type": "string"
        },
        {
         "name": "anyof3_d",
         "rawType": "object",
         "type": "string"
        },
        {
         "name": "total_d",
         "rawType": "object",
         "type": "string"
        },
        {
         "name": "poe_d",
         "rawType": "object",
         "type": "string"
        }
       ],
       "conversionMethod": "pd.DataFrame",
       "ref": "defb4e4e-63b3-45e3-ad07-ee9c6fd8076c",
       "rows": [
        [
         "0",
         "1",
         "United States",
         "2019-12-29T00:00:00.000",
         "0",
         "4111",
         "434",
         "4545",
         "60170",
         "98.00"
        ],
        [
         "1",
         "2",
         "United States",
         "2020-01-05T00:00:00.000",
         "1",
         "4153",
         "475",
         "4628",
         "60734",
         "97.00"
        ],
        [
         "2",
         "3",
         "United States",
         "2020-01-12T00:00:00.000",
         "2",
         "4066",
         "468",
         "4534",
         "59362",
         "98.00"
        ],
        [
         "3",
         "4",
         "United States",
         "2020-01-19T00:00:00.000",
         "3",
         "3915",
         "500",
         "4418",
         "59162",
         "99.00"
        ],
        [
         "4",
         "5",
         "United States",
         "2020-01-26T00:00:00.000",
         "0",
         "3818",
         "481",
         "4299",
         "58834",
         "99.00"
        ]
       ],
       "shape": {
        "columns": 9,
        "rows": 5
       }
      },
      "text/html": [
       "<div>\n",
       "<style scoped>\n",
       "    .dataframe tbody tr th:only-of-type {\n",
       "        vertical-align: middle;\n",
       "    }\n",
       "\n",
       "    .dataframe tbody tr th {\n",
       "        vertical-align: top;\n",
       "    }\n",
       "\n",
       "    .dataframe thead th {\n",
       "        text-align: right;\n",
       "    }\n",
       "</style>\n",
       "<table border=\"1\" class=\"dataframe\">\n",
       "  <thead>\n",
       "    <tr style=\"text-align: right;\">\n",
       "      <th></th>\n",
       "      <th>week</th>\n",
       "      <th>state</th>\n",
       "      <th>week_start</th>\n",
       "      <th>covid_d</th>\n",
       "      <th>pneum_d</th>\n",
       "      <th>flu_d</th>\n",
       "      <th>anyof3_d</th>\n",
       "      <th>total_d</th>\n",
       "      <th>poe_d</th>\n",
       "    </tr>\n",
       "  </thead>\n",
       "  <tbody>\n",
       "    <tr>\n",
       "      <th>0</th>\n",
       "      <td>1</td>\n",
       "      <td>United States</td>\n",
       "      <td>2019-12-29T00:00:00.000</td>\n",
       "      <td>0</td>\n",
       "      <td>4111</td>\n",
       "      <td>434</td>\n",
       "      <td>4545</td>\n",
       "      <td>60170</td>\n",
       "      <td>98.00</td>\n",
       "    </tr>\n",
       "    <tr>\n",
       "      <th>1</th>\n",
       "      <td>2</td>\n",
       "      <td>United States</td>\n",
       "      <td>2020-01-05T00:00:00.000</td>\n",
       "      <td>1</td>\n",
       "      <td>4153</td>\n",
       "      <td>475</td>\n",
       "      <td>4628</td>\n",
       "      <td>60734</td>\n",
       "      <td>97.00</td>\n",
       "    </tr>\n",
       "    <tr>\n",
       "      <th>2</th>\n",
       "      <td>3</td>\n",
       "      <td>United States</td>\n",
       "      <td>2020-01-12T00:00:00.000</td>\n",
       "      <td>2</td>\n",
       "      <td>4066</td>\n",
       "      <td>468</td>\n",
       "      <td>4534</td>\n",
       "      <td>59362</td>\n",
       "      <td>98.00</td>\n",
       "    </tr>\n",
       "    <tr>\n",
       "      <th>3</th>\n",
       "      <td>4</td>\n",
       "      <td>United States</td>\n",
       "      <td>2020-01-19T00:00:00.000</td>\n",
       "      <td>3</td>\n",
       "      <td>3915</td>\n",
       "      <td>500</td>\n",
       "      <td>4418</td>\n",
       "      <td>59162</td>\n",
       "      <td>99.00</td>\n",
       "    </tr>\n",
       "    <tr>\n",
       "      <th>4</th>\n",
       "      <td>5</td>\n",
       "      <td>United States</td>\n",
       "      <td>2020-01-26T00:00:00.000</td>\n",
       "      <td>0</td>\n",
       "      <td>3818</td>\n",
       "      <td>481</td>\n",
       "      <td>4299</td>\n",
       "      <td>58834</td>\n",
       "      <td>99.00</td>\n",
       "    </tr>\n",
       "  </tbody>\n",
       "</table>\n",
       "</div>"
      ],
      "text/plain": [
       "  week          state               week_start covid_d pneum_d flu_d anyof3_d  \\\n",
       "0    1  United States  2019-12-29T00:00:00.000       0    4111   434     4545   \n",
       "1    2  United States  2020-01-05T00:00:00.000       1    4153   475     4628   \n",
       "2    3  United States  2020-01-12T00:00:00.000       2    4066   468     4534   \n",
       "3    4  United States  2020-01-19T00:00:00.000       3    3915   500     4418   \n",
       "4    5  United States  2020-01-26T00:00:00.000       0    3818   481     4299   \n",
       "\n",
       "  total_d  poe_d  \n",
       "0   60170  98.00  \n",
       "1   60734  97.00  \n",
       "2   59362  98.00  \n",
       "3   59162  99.00  \n",
       "4   58834  99.00  "
      ]
     },
     "execution_count": 3,
     "metadata": {},
     "output_type": "execute_result"
    }
   ],
   "source": [
    "df = pd.DataFrame(output)\n",
    "df = df[['start_date', \n",
    "           'end_date', \n",
    "           'year', \n",
    "           'mmwr_week', \n",
    "           'state', \n",
    "           'covid_19_deaths', \n",
    "           'total_deaths', \n",
    "           'percent_of_expected_deaths', \n",
    "           'pneumonia_deaths', \n",
    "           'influenza_deaths',\n",
    "           'pneumonia_influenza_or_covid_19_deaths']]\n",
    "\n",
    "df.columns = ['week_start', \n",
    "              'week_end',\n",
    "              'year',\n",
    "              'week',\n",
    "              'state',\n",
    "              'covid_d',\n",
    "              'total_d',\n",
    "              'poe_d',\n",
    "              'pneum_d',\n",
    "              'flu_d',\n",
    "              'anyof3_d']\n",
    "\n",
    "df = df[['week','state','week_start','covid_d','pneum_d','flu_d','anyof3_d','total_d','poe_d']]\n",
    "df.head()\n",
    "\n"
   ]
  },
  {
   "cell_type": "code",
   "execution_count": 4,
   "id": "bf52b118",
   "metadata": {},
   "outputs": [
    {
     "data": {
      "application/vnd.microsoft.datawrangler.viewer.v0+json": {
       "columns": [
        {
         "name": "index",
         "rawType": "int64",
         "type": "integer"
        },
        {
         "name": "week",
         "rawType": "object",
         "type": "string"
        },
        {
         "name": "state",
         "rawType": "object",
         "type": "string"
        },
        {
         "name": "week_start",
         "rawType": "object",
         "type": "string"
        },
        {
         "name": "covid_d",
         "rawType": "object",
         "type": "string"
        },
        {
         "name": "pneum_d",
         "rawType": "object",
         "type": "string"
        },
        {
         "name": "flu_d",
         "rawType": "object",
         "type": "string"
        },
        {
         "name": "anyof3_d",
         "rawType": "object",
         "type": "string"
        },
        {
         "name": "total_d",
         "rawType": "object",
         "type": "string"
        },
        {
         "name": "poe_d",
         "rawType": "object",
         "type": "string"
        },
        {
         "name": "year",
         "rawType": "object",
         "type": "string"
        }
       ],
       "conversionMethod": "pd.DataFrame",
       "ref": "919f8189-7104-4b02-9707-e234abef4063",
       "rows": [
        [
         "0",
         "1",
         "United States",
         "2019-12-29T00:00:00.000",
         "0",
         "4111",
         "434",
         "4545",
         "60170",
         "98.00",
         "2019"
        ],
        [
         "1",
         "2",
         "United States",
         "2020-01-05T00:00:00.000",
         "1",
         "4153",
         "475",
         "4628",
         "60734",
         "97.00",
         "2020"
        ],
        [
         "2",
         "3",
         "United States",
         "2020-01-12T00:00:00.000",
         "2",
         "4066",
         "468",
         "4534",
         "59362",
         "98.00",
         "2020"
        ],
        [
         "3",
         "4",
         "United States",
         "2020-01-19T00:00:00.000",
         "3",
         "3915",
         "500",
         "4418",
         "59162",
         "99.00",
         "2020"
        ],
        [
         "4",
         "5",
         "United States",
         "2020-01-26T00:00:00.000",
         "0",
         "3818",
         "481",
         "4299",
         "58834",
         "99.00",
         "2020"
        ]
       ],
       "shape": {
        "columns": 10,
        "rows": 5
       }
      },
      "text/html": [
       "<div>\n",
       "<style scoped>\n",
       "    .dataframe tbody tr th:only-of-type {\n",
       "        vertical-align: middle;\n",
       "    }\n",
       "\n",
       "    .dataframe tbody tr th {\n",
       "        vertical-align: top;\n",
       "    }\n",
       "\n",
       "    .dataframe thead th {\n",
       "        text-align: right;\n",
       "    }\n",
       "</style>\n",
       "<table border=\"1\" class=\"dataframe\">\n",
       "  <thead>\n",
       "    <tr style=\"text-align: right;\">\n",
       "      <th></th>\n",
       "      <th>week</th>\n",
       "      <th>state</th>\n",
       "      <th>week_start</th>\n",
       "      <th>covid_d</th>\n",
       "      <th>pneum_d</th>\n",
       "      <th>flu_d</th>\n",
       "      <th>anyof3_d</th>\n",
       "      <th>total_d</th>\n",
       "      <th>poe_d</th>\n",
       "      <th>year</th>\n",
       "    </tr>\n",
       "  </thead>\n",
       "  <tbody>\n",
       "    <tr>\n",
       "      <th>0</th>\n",
       "      <td>1</td>\n",
       "      <td>United States</td>\n",
       "      <td>2019-12-29T00:00:00.000</td>\n",
       "      <td>0</td>\n",
       "      <td>4111</td>\n",
       "      <td>434</td>\n",
       "      <td>4545</td>\n",
       "      <td>60170</td>\n",
       "      <td>98.00</td>\n",
       "      <td>2019</td>\n",
       "    </tr>\n",
       "    <tr>\n",
       "      <th>1</th>\n",
       "      <td>2</td>\n",
       "      <td>United States</td>\n",
       "      <td>2020-01-05T00:00:00.000</td>\n",
       "      <td>1</td>\n",
       "      <td>4153</td>\n",
       "      <td>475</td>\n",
       "      <td>4628</td>\n",
       "      <td>60734</td>\n",
       "      <td>97.00</td>\n",
       "      <td>2020</td>\n",
       "    </tr>\n",
       "    <tr>\n",
       "      <th>2</th>\n",
       "      <td>3</td>\n",
       "      <td>United States</td>\n",
       "      <td>2020-01-12T00:00:00.000</td>\n",
       "      <td>2</td>\n",
       "      <td>4066</td>\n",
       "      <td>468</td>\n",
       "      <td>4534</td>\n",
       "      <td>59362</td>\n",
       "      <td>98.00</td>\n",
       "      <td>2020</td>\n",
       "    </tr>\n",
       "    <tr>\n",
       "      <th>3</th>\n",
       "      <td>4</td>\n",
       "      <td>United States</td>\n",
       "      <td>2020-01-19T00:00:00.000</td>\n",
       "      <td>3</td>\n",
       "      <td>3915</td>\n",
       "      <td>500</td>\n",
       "      <td>4418</td>\n",
       "      <td>59162</td>\n",
       "      <td>99.00</td>\n",
       "      <td>2020</td>\n",
       "    </tr>\n",
       "    <tr>\n",
       "      <th>4</th>\n",
       "      <td>5</td>\n",
       "      <td>United States</td>\n",
       "      <td>2020-01-26T00:00:00.000</td>\n",
       "      <td>0</td>\n",
       "      <td>3818</td>\n",
       "      <td>481</td>\n",
       "      <td>4299</td>\n",
       "      <td>58834</td>\n",
       "      <td>99.00</td>\n",
       "      <td>2020</td>\n",
       "    </tr>\n",
       "  </tbody>\n",
       "</table>\n",
       "</div>"
      ],
      "text/plain": [
       "  week          state               week_start covid_d pneum_d flu_d anyof3_d  \\\n",
       "0    1  United States  2019-12-29T00:00:00.000       0    4111   434     4545   \n",
       "1    2  United States  2020-01-05T00:00:00.000       1    4153   475     4628   \n",
       "2    3  United States  2020-01-12T00:00:00.000       2    4066   468     4534   \n",
       "3    4  United States  2020-01-19T00:00:00.000       3    3915   500     4418   \n",
       "4    5  United States  2020-01-26T00:00:00.000       0    3818   481     4299   \n",
       "\n",
       "  total_d  poe_d  year  \n",
       "0   60170  98.00  2019  \n",
       "1   60734  97.00  2020  \n",
       "2   59362  98.00  2020  \n",
       "3   59162  99.00  2020  \n",
       "4   58834  99.00  2020  "
      ]
     },
     "execution_count": 4,
     "metadata": {},
     "output_type": "execute_result"
    }
   ],
   "source": [
    "week_start = df['week_start'].astype(str)\n",
    "year = [week_start[i][0:4] for i in range(len(week_start))]\n",
    "df['year'] = year\n",
    "df.head()"
   ]
  },
  {
   "cell_type": "code",
   "execution_count": 5,
   "id": "a2d6d75e",
   "metadata": {},
   "outputs": [],
   "source": [
    "df.to_csv('cdc_covid_data.csv', index=False)\n",
    "# week of reportind (index), state, week start date, covid deaths, pneumonia deaths, influenza deaths, covid+pneumonia+influenza deaths, total deaths, percentage of expected deaths, year"
   ]
  }
 ],
 "metadata": {
  "kernelspec": {
   "display_name": "dev",
   "language": "python",
   "name": "python3"
  },
  "language_info": {
   "codemirror_mode": {
    "name": "ipython",
    "version": 3
   },
   "file_extension": ".py",
   "mimetype": "text/x-python",
   "name": "python",
   "nbconvert_exporter": "python",
   "pygments_lexer": "ipython3",
   "version": "3.10.16"
  }
 },
 "nbformat": 4,
 "nbformat_minor": 5
}
